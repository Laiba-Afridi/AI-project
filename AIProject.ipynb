{
 "cells": [
  {
   "cell_type": "code",
   "execution_count": 1,
   "id": "db26c1ab-56bb-4049-99a2-10bce9c3a31e",
   "metadata": {},
   "outputs": [
    {
     "name": "stdout",
     "output_type": "stream",
     "text": [
      "Assistant says: Hello, I am your personal finance manager.\n",
      " My name is Pennywise, helping you become smart with every penny.\n",
      " I am here to assist you.\n",
      "Assistant says: Please enter your choice.\n",
      "\n",
      "--- Finance Manager ---\n",
      "1. Set Balance\n",
      "2. Add Categories with Priorities\n",
      "3. Suggest Budget Allocation\n",
      "4. Manual Allocation\n",
      "5. Add Expense\n",
      "6. View Summary\n",
      "7. View Savings\n",
      "8. Save Data\n",
      "9. View Saved Data\n",
      "0. Exit\n"
     ]
    },
    {
     "name": "stdin",
     "output_type": "stream",
     "text": [
      "Enter your choice (0-10):  1\n"
     ]
    },
    {
     "name": "stdout",
     "output_type": "stream",
     "text": [
      "Assistant says: Enter the amount you want to add to your budget in PKR.\n"
     ]
    },
    {
     "name": "stdin",
     "output_type": "stream",
     "text": [
      "Enter the amount to add to your budget: PKR  50000\n"
     ]
    },
    {
     "name": "stdout",
     "output_type": "stream",
     "text": [
      "Assistant says: Budget updated successfully. Total balance is now PKR 50000.00.\n",
      "Budget updated successfully. Total balance is now: PKR 50000.00\n",
      "Assistant says: Please enter your choice.\n",
      "\n",
      "--- Finance Manager ---\n",
      "1. Set Balance\n",
      "2. Add Categories with Priorities\n",
      "3. Suggest Budget Allocation\n",
      "4. Manual Allocation\n",
      "5. Add Expense\n",
      "6. View Summary\n",
      "7. View Savings\n",
      "8. Save Data\n",
      "9. View Saved Data\n",
      "0. Exit\n"
     ]
    },
    {
     "name": "stdin",
     "output_type": "stream",
     "text": [
      "Enter your choice (0-10):  2\n"
     ]
    },
    {
     "name": "stdout",
     "output_type": "stream",
     "text": [
      "Assistant says: Enter the number of categories you'd like to add.\n"
     ]
    },
    {
     "name": "stdin",
     "output_type": "stream",
     "text": [
      "Enter the number of categories:  3\n"
     ]
    },
    {
     "name": "stdout",
     "output_type": "stream",
     "text": [
      "Assistant says: Enter category name.\n"
     ]
    },
    {
     "name": "stdin",
     "output_type": "stream",
     "text": [
      "Enter category name:  bill\n"
     ]
    },
    {
     "name": "stdout",
     "output_type": "stream",
     "text": [
      "Assistant says: Enter priority for category 'bill' (1 is most important, 5 is least).\n"
     ]
    },
    {
     "name": "stdin",
     "output_type": "stream",
     "text": [
      "Enter priority for 'bill' (1-5):  1\n"
     ]
    },
    {
     "name": "stdout",
     "output_type": "stream",
     "text": [
      "Assistant says: Enter category name.\n"
     ]
    },
    {
     "name": "stdin",
     "output_type": "stream",
     "text": [
      "Enter category name:  rent\n"
     ]
    },
    {
     "name": "stdout",
     "output_type": "stream",
     "text": [
      "Assistant says: Enter priority for category 'rent' (1 is most important, 5 is least).\n"
     ]
    },
    {
     "name": "stdin",
     "output_type": "stream",
     "text": [
      "Enter priority for 'rent' (1-5):  1\n"
     ]
    },
    {
     "name": "stdout",
     "output_type": "stream",
     "text": [
      "Assistant says: Enter category name.\n"
     ]
    },
    {
     "name": "stdin",
     "output_type": "stream",
     "text": [
      "Enter category name:  shopping\n"
     ]
    },
    {
     "name": "stdout",
     "output_type": "stream",
     "text": [
      "Assistant says: Enter priority for category 'shopping' (1 is most important, 5 is least).\n"
     ]
    },
    {
     "name": "stdin",
     "output_type": "stream",
     "text": [
      "Enter priority for 'shopping' (1-5):  2\n"
     ]
    },
    {
     "name": "stdout",
     "output_type": "stream",
     "text": [
      "Assistant says: Categories added successfully with priorities.\n",
      "\n",
      "Categories added with priorities.\n",
      "Assistant says: Please enter your choice.\n",
      "\n",
      "--- Finance Manager ---\n",
      "1. Set Balance\n",
      "2. Add Categories with Priorities\n",
      "3. Suggest Budget Allocation\n",
      "4. Manual Allocation\n",
      "5. Add Expense\n",
      "6. View Summary\n",
      "7. View Savings\n",
      "8. Save Data\n",
      "9. View Saved Data\n",
      "0. Exit\n"
     ]
    },
    {
     "name": "stdin",
     "output_type": "stream",
     "text": [
      "Enter your choice (0-10):  4\n"
     ]
    },
    {
     "name": "stdout",
     "output_type": "stream",
     "text": [
      "Assistant says: You have PKR 50000.00 available for allocation.\n",
      "Remaining budget: PKR 50000.00\n",
      "Assistant says: Enter amount for category 'bill' (leave 0 to skip). Remaining budget: PKR 50000.00\n"
     ]
    },
    {
     "name": "stdin",
     "output_type": "stream",
     "text": [
      "Enter amount for 'bill' (leave 0 to skip): PKR  10000\n"
     ]
    },
    {
     "name": "stdout",
     "output_type": "stream",
     "text": [
      "Assistant says: Enter amount for category 'rent' (leave 0 to skip). Remaining budget: PKR 40000.00\n"
     ]
    },
    {
     "name": "stdin",
     "output_type": "stream",
     "text": [
      "Enter amount for 'rent' (leave 0 to skip): PKR  20000\n"
     ]
    },
    {
     "name": "stdout",
     "output_type": "stream",
     "text": [
      "Assistant says: Enter amount for category 'shopping' (leave 0 to skip). Remaining budget: PKR 20000.00\n"
     ]
    },
    {
     "name": "stdin",
     "output_type": "stream",
     "text": [
      "Enter amount for 'shopping' (leave 0 to skip): PKR  10000\n"
     ]
    },
    {
     "name": "stdout",
     "output_type": "stream",
     "text": [
      "Assistant says: Manual allocation completed. Remaining budget: PKR 10000.00\n",
      "Manual allocation completed. Remaining budget: PKR 10000.00\n",
      "Assistant says: Please enter your choice.\n",
      "\n",
      "--- Finance Manager ---\n",
      "1. Set Balance\n",
      "2. Add Categories with Priorities\n",
      "3. Suggest Budget Allocation\n",
      "4. Manual Allocation\n",
      "5. Add Expense\n",
      "6. View Summary\n",
      "7. View Savings\n",
      "8. Save Data\n",
      "9. View Saved Data\n",
      "0. Exit\n"
     ]
    },
    {
     "name": "stdin",
     "output_type": "stream",
     "text": [
      "Enter your choice (0-10):  8\n"
     ]
    },
    {
     "name": "stdout",
     "output_type": "stream",
     "text": [
      "Assistant says: Data saved to file.\n",
      "Data saved to file\n",
      "Assistant says: Please enter your choice.\n",
      "\n",
      "--- Finance Manager ---\n",
      "1. Set Balance\n",
      "2. Add Categories with Priorities\n",
      "3. Suggest Budget Allocation\n",
      "4. Manual Allocation\n",
      "5. Add Expense\n",
      "6. View Summary\n",
      "7. View Savings\n",
      "8. Save Data\n",
      "9. View Saved Data\n",
      "0. Exit\n"
     ]
    },
    {
     "name": "stdin",
     "output_type": "stream",
     "text": [
      "Enter your choice (0-10):  9\n"
     ]
    },
    {
     "name": "stdout",
     "output_type": "stream",
     "text": [
      "\n",
      "--- Saved Data ---\n",
      "{\n",
      "    \"balance\": 50000.0,\n",
      "    \"categories\": {\n",
      "        \"bill\": {\n",
      "            \"priority\": 1,\n",
      "            \"allocation\": 10000.0\n",
      "        },\n",
      "        \"rent\": {\n",
      "            \"priority\": 1,\n",
      "            \"allocation\": 20000.0\n",
      "        },\n",
      "        \"shopping\": {\n",
      "            \"priority\": 2,\n",
      "            \"allocation\": 10000.0\n",
      "        }\n",
      "    },\n",
      "    \"expenses\": {\n",
      "        \"bill\": {\n",
      "            \"allocated\": 10000.0,\n",
      "            \"spent\": 0\n",
      "        },\n",
      "        \"rent\": {\n",
      "            \"allocated\": 20000.0,\n",
      "            \"spent\": 0\n",
      "        },\n",
      "        \"shopping\": {\n",
      "            \"allocated\": 10000.0,\n",
      "            \"spent\": 0\n",
      "        }\n",
      "    }\n",
      "}\n",
      "Assistant says: Here is the saved data.\n",
      "Assistant says: Please enter your choice.\n",
      "\n",
      "--- Finance Manager ---\n",
      "1. Set Balance\n",
      "2. Add Categories with Priorities\n",
      "3. Suggest Budget Allocation\n",
      "4. Manual Allocation\n",
      "5. Add Expense\n",
      "6. View Summary\n",
      "7. View Savings\n",
      "8. Save Data\n",
      "9. View Saved Data\n",
      "0. Exit\n"
     ]
    },
    {
     "name": "stdin",
     "output_type": "stream",
     "text": [
      "Enter your choice (0-10):  5\n"
     ]
    },
    {
     "name": "stdout",
     "output_type": "stream",
     "text": [
      "Assistant says: Enter the category to add expense.\n"
     ]
    },
    {
     "name": "stdin",
     "output_type": "stream",
     "text": [
      "Enter category to add expense:  shopping\n"
     ]
    },
    {
     "name": "stdout",
     "output_type": "stream",
     "text": [
      "Assistant says: Enter the expense amount for category 'shopping'.\n"
     ]
    },
    {
     "name": "stdin",
     "output_type": "stream",
     "text": [
      "Enter expense amount: PKR  5000\n"
     ]
    },
    {
     "name": "stdout",
     "output_type": "stream",
     "text": [
      "Assistant says: PKR 5000.00 spent in 'shopping'. Remaining: PKR 5000.00\n",
      "PKR 5000.00 spent in 'shopping'. Remaining: PKR 5000.00\n",
      "Assistant says: Please enter your choice.\n",
      "\n",
      "--- Finance Manager ---\n",
      "1. Set Balance\n",
      "2. Add Categories with Priorities\n",
      "3. Suggest Budget Allocation\n",
      "4. Manual Allocation\n",
      "5. Add Expense\n",
      "6. View Summary\n",
      "7. View Savings\n",
      "8. Save Data\n",
      "9. View Saved Data\n",
      "0. Exit\n"
     ]
    },
    {
     "name": "stdin",
     "output_type": "stream",
     "text": [
      "Enter your choice (0-10):  5\n"
     ]
    },
    {
     "name": "stdout",
     "output_type": "stream",
     "text": [
      "Assistant says: Enter the category to add expense.\n"
     ]
    },
    {
     "name": "stdin",
     "output_type": "stream",
     "text": [
      "Enter category to add expense:  shopping\n"
     ]
    },
    {
     "name": "stdout",
     "output_type": "stream",
     "text": [
      "Assistant says: Enter the expense amount for category 'shopping'.\n"
     ]
    },
    {
     "name": "stdin",
     "output_type": "stream",
     "text": [
      "Enter expense amount: PKR  10000\n"
     ]
    },
    {
     "name": "stdout",
     "output_type": "stream",
     "text": [
      "Assistant says: Insufficient funds in 'shopping'! Try a smaller amount.\n",
      "Insufficient funds in 'shopping'! Try a smaller amount.\n",
      "Assistant says: Enter the category to add expense.\n"
     ]
    },
    {
     "name": "stdin",
     "output_type": "stream",
     "text": [
      "Enter category to add expense:  shopping\n"
     ]
    },
    {
     "name": "stdout",
     "output_type": "stream",
     "text": [
      "Assistant says: Enter the expense amount for category 'shopping'.\n"
     ]
    },
    {
     "name": "stdin",
     "output_type": "stream",
     "text": [
      "Enter expense amount: PKR  5000\n"
     ]
    },
    {
     "name": "stdout",
     "output_type": "stream",
     "text": [
      "Assistant says: PKR 5000.00 spent in 'shopping'. Remaining: PKR 0.00\n",
      "PKR 5000.00 spent in 'shopping'. Remaining: PKR 0.00\n",
      "Assistant says: Please enter your choice.\n",
      "\n",
      "--- Finance Manager ---\n",
      "1. Set Balance\n",
      "2. Add Categories with Priorities\n",
      "3. Suggest Budget Allocation\n",
      "4. Manual Allocation\n",
      "5. Add Expense\n",
      "6. View Summary\n",
      "7. View Savings\n",
      "8. Save Data\n",
      "9. View Saved Data\n",
      "0. Exit\n"
     ]
    },
    {
     "name": "stdin",
     "output_type": "stream",
     "text": [
      "Enter your choice (0-10):  6\n"
     ]
    },
    {
     "name": "stdout",
     "output_type": "stream",
     "text": [
      "Assistant says: Viewing financial summary.\n",
      "Assistant says: bill: Allocated = PKR 10000.00, Spent = PKR 0.00, Remaining = PKR 10000.00\n",
      "bill: Allocated = PKR 10000.00, Spent = PKR 0.00, Remaining = PKR 10000.00\n",
      "Assistant says: rent: Allocated = PKR 20000.00, Spent = PKR 0.00, Remaining = PKR 20000.00\n",
      "rent: Allocated = PKR 20000.00, Spent = PKR 0.00, Remaining = PKR 20000.00\n",
      "Assistant says: shopping: Allocated = PKR 10000.00, Spent = PKR 10000.00, Remaining = PKR 0.00\n",
      "shopping: Allocated = PKR 10000.00, Spent = PKR 10000.00, Remaining = PKR 0.00\n",
      "Assistant says: Total Balance: PKR 50000.00, Total Spent: PKR 10000.00, Remaining: PKR 40000.00\n",
      "Total Balance: PKR 50000.00, Total Spent: PKR 10000.00, Remaining: PKR 40000.00\n",
      "Assistant says: Please enter your choice.\n",
      "\n",
      "--- Finance Manager ---\n",
      "1. Set Balance\n",
      "2. Add Categories with Priorities\n",
      "3. Suggest Budget Allocation\n",
      "4. Manual Allocation\n",
      "5. Add Expense\n",
      "6. View Summary\n",
      "7. View Savings\n",
      "8. Save Data\n",
      "9. View Saved Data\n",
      "0. Exit\n"
     ]
    },
    {
     "name": "stdin",
     "output_type": "stream",
     "text": [
      "Enter your choice (0-10):  7\n"
     ]
    },
    {
     "name": "stdout",
     "output_type": "stream",
     "text": [
      "Assistant says: Your remaining savings: PKR 40000.00\n",
      "Remaining Savings: PKR 40000.00\n",
      "Assistant says: Please enter your choice.\n",
      "\n",
      "--- Finance Manager ---\n",
      "1. Set Balance\n",
      "2. Add Categories with Priorities\n",
      "3. Suggest Budget Allocation\n",
      "4. Manual Allocation\n",
      "5. Add Expense\n",
      "6. View Summary\n",
      "7. View Savings\n",
      "8. Save Data\n",
      "9. View Saved Data\n",
      "0. Exit\n"
     ]
    },
    {
     "name": "stdin",
     "output_type": "stream",
     "text": [
      "Enter your choice (0-10):  0\n"
     ]
    },
    {
     "name": "stdout",
     "output_type": "stream",
     "text": [
      "Assistant says: Goodbye!\n",
      "Exiting Finance Manager. Goodbye!\n"
     ]
    }
   ],
   "source": [
    "import json\n",
    "import pyttsx3\n",
    "\n",
    "\n",
    "class FinanceManager:\n",
    "    def __init__(self):\n",
    "        self.balance = 0\n",
    "        self.categories = {}\n",
    "        self.expenses = {}\n",
    "\n",
    "        # Initialize text-to-speech engine\n",
    "        self.speech_engine = pyttsx3.init()\n",
    "        self.speech_engine.setProperty('rate', 180)  # Set speaking rate\n",
    "        self.speech_engine.setProperty('volume', 1)  # Set volume level (0.0 to 1.0)\n",
    "\n",
    "    def speak(self, message):\n",
    "        \"\"\"Convert text to speech.\"\"\"\n",
    "        print(f\"Assistant says: {message}\")\n",
    "        self.speech_engine.say(message)\n",
    "        self.speech_engine.runAndWait()\n",
    "\n",
    "    def set_balance(self):\n",
    "        \"\"\"Set or update the user's total balance.\"\"\"\n",
    "        self.speak(\"Enter the amount you want to add to your budget in PKR.\")\n",
    "        balance_text = input(\"Enter the amount to add to your budget: PKR \")\n",
    "        new_balance = float(balance_text)\n",
    "        self.balance += new_balance\n",
    "        self.speak(f\"Budget updated successfully. Total balance is now PKR {self.balance:.2f}.\")\n",
    "        print(f\"Budget updated successfully. Total balance is now: PKR {self.balance:.2f}\")\n",
    "\n",
    "    def add_categories_with_priority(self):\n",
    "        \"\"\"Add spending categories with priorities.\"\"\"\n",
    "        self.speak(\"Enter the number of categories you'd like to add.\")\n",
    "        num_categories = int(input(\"Enter the number of categories: \"))\n",
    "        for _ in range(num_categories):\n",
    "            self.speak(\"Enter category name.\")\n",
    "            category = input(\"Enter category name: \")\n",
    "            self.speak(f\"Enter priority for category '{category}' (1 is most important, 5 is least).\")\n",
    "            priority = int(input(f\"Enter priority for '{category}' (1-5): \"))\n",
    "            self.categories[category] = {\"priority\": priority, \"allocation\": 0}\n",
    "        self.speak(\"Categories added successfully with priorities.\")\n",
    "        print(\"\\nCategories added with priorities.\")\n",
    "\n",
    "    def suggest_allocation(self):\n",
    "        \"\"\"Suggest budget allocation based on priorities.\"\"\"\n",
    "        self.speak(\"What percentage of your budget would you like to allocate automatically? (Enter a number between 0 and 100).\")\n",
    "        percentage_text = input(\"Enter percentage to allocate (0-100): \")\n",
    "        try:\n",
    "            percentage_to_allocate = float(percentage_text)\n",
    "            if not (0 <= percentage_to_allocate <= 100):\n",
    "                raise ValueError(\"Percentage must be between 0 and 100.\")\n",
    "        except ValueError as e:\n",
    "            self.speak(\"Invalid input. Please enter a valid percentage.\")\n",
    "            print(\"Error:\", e)\n",
    "            return\n",
    "\n",
    "        # Temporary variable for allocation budget (does not change the main balance)\n",
    "        allocation_budget = (percentage_to_allocate / 100) * self.balance\n",
    "        total_priority = sum(1 / details[\"priority\"] for details in self.categories.values())\n",
    "\n",
    "        temp_allocations = {}\n",
    "        for category, details in self.categories.items():\n",
    "            allocation_percentage = (1 / details[\"priority\"]) / total_priority\n",
    "            allocated_amount = allocation_budget * allocation_percentage\n",
    "            temp_allocations[category] = allocated_amount\n",
    "            self.speak(f\"Suggested allocation for {category}: PKR {allocated_amount:.2f} (Priority {details['priority']})\")\n",
    "            print(f\"Suggested allocation for {category}: PKR {allocated_amount:.2f} (Priority {details['priority']})\")\n",
    "            self.speak(f\"Suggested allocation completed.\")\n",
    "            print(f\"Suggested allocation completed.\")\n",
    "\n",
    "\n",
    "\n",
    "    def manual_allocation(self):\n",
    "        \"\"\"Allow the user to manually allocate the budget to categories.\"\"\"\n",
    "        total_allocated = sum(details[\"allocation\"] for details in self.categories.values())\n",
    "        total_spent = sum(details[\"spent\"] for details in self.expenses.values())\n",
    "        remaining_budget = self.balance - total_allocated - total_spent\n",
    "\n",
    "        if remaining_budget <= 0:\n",
    "            self.speak(\"No remaining budget available for allocation. Please update your budget first.\")\n",
    "            print(\"No remaining budget available for allocation. Please update your budget first.\")\n",
    "            return\n",
    "\n",
    "        self.speak(f\"You have PKR {remaining_budget:.2f} available for allocation.\")\n",
    "        print(f\"Remaining budget: PKR {remaining_budget:.2f}\")\n",
    "\n",
    "        for category in self.categories:\n",
    "            while True:\n",
    "                self.speak(f\"Enter amount for category '{category}' (leave 0 to skip). Remaining budget: PKR {remaining_budget:.2f}\")\n",
    "                amount = float(input(f\"Enter amount for '{category}' (leave 0 to skip): PKR \"))\n",
    "                if amount > remaining_budget:\n",
    "                    self.speak(\"Warning! You are exceeding the remaining budget. Please enter a lower amount.\")\n",
    "                    print(\"Warning! You are exceeding the remaining budget.\")\n",
    "                else:\n",
    "                    self.categories[category][\"allocation\"] += amount\n",
    "                    self.expenses[category] = self.expenses.get(category, {\"allocated\": 0, \"spent\": 0})\n",
    "                    self.expenses[category][\"allocated\"] += amount\n",
    "                    remaining_budget -= amount\n",
    "                    break\n",
    "\n",
    "        self.speak(f\"Manual allocation completed. Remaining budget: PKR {remaining_budget:.2f}\")\n",
    "        print(f\"Manual allocation completed. Remaining budget: PKR {remaining_budget:.2f}\")\n",
    "\n",
    "    def add_expense(self):\n",
    "        \"\"\"Add an expense to a category.\"\"\"\n",
    "        while True:\n",
    "            self.speak(\"Enter the category to add expense.\")\n",
    "            category = input(\"Enter category to add expense: \")\n",
    "            if category not in self.expenses:\n",
    "                self.speak(f\"Category '{category}' does not exist. Please try again.\")\n",
    "                print(f\"Category '{category}' does not exist.\")\n",
    "                continue\n",
    "\n",
    "            self.speak(f\"Enter the expense amount for category '{category}'.\")\n",
    "            amount = float(input(\"Enter expense amount: PKR \"))\n",
    "            if amount > self.expenses[category][\"allocated\"] - self.expenses[category][\"spent\"]:\n",
    "                self.speak(f\"Insufficient funds in '{category}'! Try a smaller amount.\")\n",
    "                print(f\"Insufficient funds in '{category}'! Try a smaller amount.\")\n",
    "                continue\n",
    "            self.expenses[category][\"spent\"] += amount\n",
    "            self.speak(f\"PKR {amount:.2f} spent in '{category}'. Remaining: PKR {self.expenses[category]['allocated'] - self.expenses[category]['spent']:.2f}\")\n",
    "            print(f\"PKR {amount:.2f} spent in '{category}'. Remaining: PKR {self.expenses[category]['allocated'] - self.expenses[category]['spent']:.2f}\")\n",
    "            break\n",
    "\n",
    "    def view_summary(self):\n",
    "        \"\"\"View financial summary.\"\"\"\n",
    "        self.speak(\"Viewing financial summary.\")\n",
    "        total_spent = 0\n",
    "        for category, details in self.expenses.items():\n",
    "            total_spent += details[\"spent\"]\n",
    "            self.speak(f\"{category}: Allocated = PKR {details['allocated']:.2f}, Spent = PKR {details['spent']:.2f}, Remaining = PKR {details['allocated'] - details['spent']:.2f}\")\n",
    "            print(f\"{category}: Allocated = PKR {details['allocated']:.2f}, Spent = PKR {details['spent']:.2f}, Remaining = PKR {details['allocated'] - details['spent']:.2f}\")\n",
    "        self.speak(f\"Total Balance: PKR {self.balance:.2f}, Total Spent: PKR {total_spent:.2f}, Remaining: PKR {self.balance - total_spent:.2f}\")\n",
    "        print(f\"Total Balance: PKR {self.balance:.2f}, Total Spent: PKR {total_spent:.2f}, Remaining: PKR {self.balance - total_spent:.2f}\")\n",
    "\n",
    "    def view_savings(self):\n",
    "        \"\"\"View remaining savings.\"\"\"\n",
    "        total_spent = sum(details[\"spent\"] for details in self.expenses.values())\n",
    "        savings = self.balance - total_spent\n",
    "        self.speak(f\"Your remaining savings: PKR {savings:.2f}\")\n",
    "        print(f\"Remaining Savings: PKR {savings:.2f}\")\n",
    "\n",
    "    def save_data(self, filename=\"finance_data.json\"):\n",
    "        \"\"\"Save financial data to a file.\"\"\"\n",
    "        data = {\n",
    "            \"balance\": self.balance,\n",
    "            \"categories\": self.categories,\n",
    "            \"expenses\": self.expenses\n",
    "        }\n",
    "        with open(filename, \"w\") as file:\n",
    "            json.dump(data, file)\n",
    "        self.speak(f\"Data saved to file.\")\n",
    "        print(f\"Data saved to file\")\n",
    "\n",
    "    def view_saved_data(self, filename=\"finance_data.json\"):\n",
    "        \"\"\"View saved data from the JSON file.\"\"\"\n",
    "        try:\n",
    "            with open(filename, \"r\") as file:\n",
    "                data = json.load(file)\n",
    "                print(\"\\n--- Saved Data ---\")\n",
    "                print(json.dumps(data, indent=4))  # Pretty print the JSON data\n",
    "                self.speak(\"Here is the saved data.\")\n",
    "        except FileNotFoundError:\n",
    "            self.speak(\"No saved data found.\")\n",
    "            print(\"No saved data found.\")\n",
    "\n",
    "\n",
    "# Main Program\n",
    "manager = FinanceManager()\n",
    "\n",
    "manager.speak(\"Hello, I am your personal finance manager.\\n My name is Pennywise, helping you become smart with every penny.\\n I am here to assist you.\")\n",
    "\n",
    "while True:\n",
    "    # Display options\n",
    "    manager.speak(\"Please enter your choice.\")\n",
    "    print(\"\\n--- Finance Manager ---\")\n",
    "    print(\"1. Set Balance\")\n",
    "    print(\"2. Add Categories with Priorities\")\n",
    "    print(\"3. Suggest Budget Allocation\")\n",
    "    print(\"4. Manual Allocation\")\n",
    "    print(\"5. Add Expense\")\n",
    "    print(\"6. View Summary\")\n",
    "    print(\"7. View Savings\")\n",
    "    print(\"8. Save Data\")\n",
    "    print(\"9. View Saved Data\")\n",
    "    print(\"0. Exit\")\n",
    "\n",
    "    choice = input(\"Enter your choice (0-10): \")\n",
    "\n",
    "    if choice == \"1\":\n",
    "        manager.set_balance()\n",
    "    elif choice == \"2\":\n",
    "        manager.add_categories_with_priority()\n",
    "    elif choice == \"3\":\n",
    "        manager.suggest_allocation()\n",
    "    elif choice == \"4\":\n",
    "        manager.manual_allocation()\n",
    "    elif choice == \"5\":\n",
    "        manager.add_expense()\n",
    "    elif choice == \"6\":\n",
    "        manager.view_summary()\n",
    "    elif choice == \"7\":\n",
    "        manager.view_savings()\n",
    "    elif choice == \"8\":\n",
    "        manager.save_data()\n",
    "    elif choice == \"9\":\n",
    "        manager.view_saved_data()\n",
    "    elif choice == \"0\":\n",
    "        manager.speak(\"Goodbye!\")\n",
    "        print(\"Exiting Finance Manager. Goodbye!\")\n",
    "        break\n",
    "    else:\n",
    "        manager.speak(\"Invalid choice. Please try again.\")\n",
    "        print(\"Invalid choice. Please try again.\")\n"
   ]
  },
  {
   "cell_type": "code",
   "execution_count": null,
   "id": "8afd399c-bb43-42f7-917e-404cee5e108b",
   "metadata": {},
   "outputs": [],
   "source": []
  }
 ],
 "metadata": {
  "kernelspec": {
   "display_name": "Python 3 (ipykernel)",
   "language": "python",
   "name": "python3"
  },
  "language_info": {
   "codemirror_mode": {
    "name": "ipython",
    "version": 3
   },
   "file_extension": ".py",
   "mimetype": "text/x-python",
   "name": "python",
   "nbconvert_exporter": "python",
   "pygments_lexer": "ipython3",
   "version": "3.12.4"
  }
 },
 "nbformat": 4,
 "nbformat_minor": 5
}
